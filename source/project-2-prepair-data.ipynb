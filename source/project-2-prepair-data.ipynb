{
 "cells": [
  {
   "cell_type": "code",
   "execution_count": 1,
   "id": "139b495f",
   "metadata": {
    "execution": {
     "iopub.execute_input": "2024-09-02T07:33:32.372390Z",
     "iopub.status.busy": "2024-09-02T07:33:32.371771Z",
     "iopub.status.idle": "2024-09-02T07:33:50.812628Z",
     "shell.execute_reply": "2024-09-02T07:33:50.811273Z"
    },
    "papermill": {
     "duration": 18.452231,
     "end_time": "2024-09-02T07:33:50.815308",
     "exception": false,
     "start_time": "2024-09-02T07:33:32.363077",
     "status": "completed"
    },
    "tags": []
   },
   "outputs": [
    {
     "name": "stdout",
     "output_type": "stream",
     "text": [
      "\u001b[31mERROR: Could not find a version that satisfies the requirement transformer (from versions: none)\u001b[0m\u001b[31m\r\n",
      "\u001b[0m\u001b[31mERROR: No matching distribution found for transformer\u001b[0m\u001b[31m\r\n",
      "\u001b[0mCollecting gdown\r\n",
      "  Downloading gdown-5.2.0-py3-none-any.whl.metadata (5.8 kB)\r\n",
      "Requirement already satisfied: beautifulsoup4 in /opt/conda/lib/python3.10/site-packages (from gdown) (4.12.3)\r\n",
      "Requirement already satisfied: filelock in /opt/conda/lib/python3.10/site-packages (from gdown) (3.15.1)\r\n",
      "Requirement already satisfied: requests[socks] in /opt/conda/lib/python3.10/site-packages (from gdown) (2.32.3)\r\n",
      "Requirement already satisfied: tqdm in /opt/conda/lib/python3.10/site-packages (from gdown) (4.66.4)\r\n",
      "Requirement already satisfied: soupsieve>1.2 in /opt/conda/lib/python3.10/site-packages (from beautifulsoup4->gdown) (2.5)\r\n",
      "Requirement already satisfied: charset-normalizer<4,>=2 in /opt/conda/lib/python3.10/site-packages (from requests[socks]->gdown) (3.3.2)\r\n",
      "Requirement already satisfied: idna<4,>=2.5 in /opt/conda/lib/python3.10/site-packages (from requests[socks]->gdown) (3.7)\r\n",
      "Requirement already satisfied: urllib3<3,>=1.21.1 in /opt/conda/lib/python3.10/site-packages (from requests[socks]->gdown) (1.26.18)\r\n",
      "Requirement already satisfied: certifi>=2017.4.17 in /opt/conda/lib/python3.10/site-packages (from requests[socks]->gdown) (2024.7.4)\r\n",
      "Requirement already satisfied: PySocks!=1.5.7,>=1.5.6 in /opt/conda/lib/python3.10/site-packages (from requests[socks]->gdown) (1.7.1)\r\n",
      "Downloading gdown-5.2.0-py3-none-any.whl (18 kB)\r\n",
      "Installing collected packages: gdown\r\n",
      "Successfully installed gdown-5.2.0\r\n",
      "Cloning into 'efficient-kan'...\r\n",
      "remote: Enumerating objects: 90, done.\u001b[K\r\n",
      "remote: Counting objects: 100% (29/29), done.\u001b[K\r\n",
      "remote: Compressing objects: 100% (15/15), done.\u001b[K\r\n",
      "remote: Total 90 (delta 22), reused 14 (delta 14), pack-reused 61 (from 1)\u001b[K\r\n",
      "Unpacking objects: 100% (90/90), 33.24 KiB | 1.11 MiB/s, done.\r\n"
     ]
    }
   ],
   "source": [
    "!pip install transformer\n",
    "!pip install gdown\n",
    "\n",
    "import os\n",
    "import sys\n",
    "\n",
    "if not os.path.exists('/kaggle/working/efficient-kan'):\n",
    "    !git clone https://github.com/Blealtan/efficient-kan\n",
    "\n",
    "if '/kaggle/working/efficient-kan/src' not in sys.path:\n",
    "    sys.path.append('/kaggle/working/efficient-kan/src')"
   ]
  },
  {
   "cell_type": "code",
   "execution_count": 2,
   "id": "acd6c299",
   "metadata": {
    "_cell_guid": "b1076dfc-b9ad-4769-8c92-a6c4dae69d19",
    "_uuid": "8f2839f25d086af736a60e9eeb907d3b93b6e0e5",
    "execution": {
     "iopub.execute_input": "2024-09-02T07:33:50.832382Z",
     "iopub.status.busy": "2024-09-02T07:33:50.831580Z",
     "iopub.status.idle": "2024-09-02T07:33:56.929092Z",
     "shell.execute_reply": "2024-09-02T07:33:56.927872Z"
    },
    "papermill": {
     "duration": 6.109265,
     "end_time": "2024-09-02T07:33:56.931898",
     "exception": false,
     "start_time": "2024-09-02T07:33:50.822633",
     "status": "completed"
    },
    "tags": []
   },
   "outputs": [],
   "source": [
    "import torch\n",
    "from torch.utils.data import DataLoader, Dataset\n",
    "import pandas as pd\n",
    "from transformers import AutoTokenizer\n",
    "from sklearn.preprocessing import LabelEncoder\n",
    "from sklearn.model_selection import train_test_split\n",
    "from tqdm import tqdm\n",
    "import matplotlib.pyplot as plt"
   ]
  },
  {
   "cell_type": "markdown",
   "id": "01110d98",
   "metadata": {
    "papermill": {
     "duration": 0.006536,
     "end_time": "2024-09-02T07:33:56.945460",
     "exception": false,
     "start_time": "2024-09-02T07:33:56.938924",
     "status": "completed"
    },
    "tags": []
   },
   "source": [
    "# Repair dataset"
   ]
  },
  {
   "cell_type": "code",
   "execution_count": 3,
   "id": "2b2989cf",
   "metadata": {
    "execution": {
     "iopub.execute_input": "2024-09-02T07:33:56.960811Z",
     "iopub.status.busy": "2024-09-02T07:33:56.960177Z",
     "iopub.status.idle": "2024-09-02T07:34:05.394529Z",
     "shell.execute_reply": "2024-09-02T07:34:05.393005Z"
    },
    "papermill": {
     "duration": 8.445119,
     "end_time": "2024-09-02T07:34:05.397311",
     "exception": false,
     "start_time": "2024-09-02T07:33:56.952192",
     "status": "completed"
    },
    "tags": []
   },
   "outputs": [
    {
     "name": "stdout",
     "output_type": "stream",
     "text": [
      "/opt/conda/lib/python3.10/site-packages/gdown/__main__.py:140: FutureWarning: Option `--id` was deprecated in version 4.3.1 and will be removed in 5.0. You don't need to pass it anymore to use a file ID.\r\n",
      "  warnings.warn(\r\n",
      "Downloading...\r\n",
      "From: https://drive.google.com/uc?id=1jz-AF1nxIVv7jvzxOm8HlOgHQF1ZO9nC\r\n",
      "To: /kaggle/working/combined_data.csv\r\n",
      "100%|██████████████████████████████████████| 76.4M/76.4M [00:00<00:00, 93.4MB/s]\r\n"
     ]
    }
   ],
   "source": [
    "!gdown --id 1jz-AF1nxIVv7jvzxOm8HlOgHQF1ZO9nC"
   ]
  },
  {
   "cell_type": "code",
   "execution_count": 4,
   "id": "95a9a1bf",
   "metadata": {
    "execution": {
     "iopub.execute_input": "2024-09-02T07:34:05.415070Z",
     "iopub.status.busy": "2024-09-02T07:34:05.413926Z",
     "iopub.status.idle": "2024-09-02T07:34:07.279699Z",
     "shell.execute_reply": "2024-09-02T07:34:07.278560Z"
    },
    "papermill": {
     "duration": 1.87742,
     "end_time": "2024-09-02T07:34:07.282292",
     "exception": false,
     "start_time": "2024-09-02T07:34:05.404872",
     "status": "completed"
    },
    "tags": []
   },
   "outputs": [
    {
     "data": {
      "text/html": [
       "<div>\n",
       "<style scoped>\n",
       "    .dataframe tbody tr th:only-of-type {\n",
       "        vertical-align: middle;\n",
       "    }\n",
       "\n",
       "    .dataframe tbody tr th {\n",
       "        vertical-align: top;\n",
       "    }\n",
       "\n",
       "    .dataframe thead th {\n",
       "        text-align: right;\n",
       "    }\n",
       "</style>\n",
       "<table border=\"1\" class=\"dataframe\">\n",
       "  <thead>\n",
       "    <tr style=\"text-align: right;\">\n",
       "      <th></th>\n",
       "      <th>url</th>\n",
       "      <th>title</th>\n",
       "      <th>description</th>\n",
       "      <th>content</th>\n",
       "      <th>cat</th>\n",
       "      <th>subcat</th>\n",
       "      <th>content_length</th>\n",
       "    </tr>\n",
       "  </thead>\n",
       "  <tbody>\n",
       "    <tr>\n",
       "      <th>0</th>\n",
       "      <td>https://vnexpress.net/ly-do-seo-ton-tai-vinh-v...</td>\n",
       "      <td>Lý do sẹo tồn tại vĩnh viễn</td>\n",
       "      <td>Mô sẹo có cấu tạo khác biệt so với da thông th...</td>\n",
       "      <td>[Caption: Vùng da bị sẹo có nhiều khác biệt vớ...</td>\n",
       "      <td>khoa học</td>\n",
       "      <td>thường thức</td>\n",
       "      <td>2919</td>\n",
       "    </tr>\n",
       "    <tr>\n",
       "      <th>1</th>\n",
       "      <td>https://vnexpress.net/nha-may-di-dong-san-xuat...</td>\n",
       "      <td>Nhà máy di động sản xuất gạch không vữa từ đốn...</td>\n",
       "      <td>Nhà máy có thể sản xuất 8.000 viên gạch giống ...</td>\n",
       "      <td>[Caption: Nhà máy sản xuất gạch di động khá nh...</td>\n",
       "      <td>khoa học</td>\n",
       "      <td>tin tức</td>\n",
       "      <td>2489</td>\n",
       "    </tr>\n",
       "    <tr>\n",
       "      <th>2</th>\n",
       "      <td>https://vnexpress.net/lo-phan-ung-hut-nuoc-bie...</td>\n",
       "      <td>Lò phản ứng hút nước biển để sản xuất hydro tr...</td>\n",
       "      <td>MỸCác nhà khoa học tại Viện Công nghệ Massachu...</td>\n",
       "      <td>Hai nhà nghiên cứu MIT Aly Kombargi (trái) và ...</td>\n",
       "      <td>khoa học</td>\n",
       "      <td>tin tức</td>\n",
       "      <td>2633</td>\n",
       "    </tr>\n",
       "    <tr>\n",
       "      <th>3</th>\n",
       "      <td>https://vnexpress.net/cac-san-pham-ai-noi-bat-...</td>\n",
       "      <td>Các sản phẩm AI nổi bật của VinBigdata</td>\n",
       "      <td>Đội ngũ phát triển của VinBigdata tạo dấu ấn v...</td>\n",
       "      <td>Trợ lý ảo ViVi 2.0\\n\"ViVi 2.0 tích hợp công ng...</td>\n",
       "      <td>khoa học</td>\n",
       "      <td>khoa học trong nước</td>\n",
       "      <td>4807</td>\n",
       "    </tr>\n",
       "    <tr>\n",
       "      <th>4</th>\n",
       "      <td>https://vnexpress.net/tia-gamma-manh-nhat-tron...</td>\n",
       "      <td>Tia gamma mạnh nhất trong vũ trụ</td>\n",
       "      <td>Nhóm nghiên cứu đến từ Trung Quốc phát hiện dò...</td>\n",
       "      <td>[Caption: Mô phỏng chớp tia gamma sáng nhất GR...</td>\n",
       "      <td>khoa học</td>\n",
       "      <td>tin tức</td>\n",
       "      <td>1882</td>\n",
       "    </tr>\n",
       "  </tbody>\n",
       "</table>\n",
       "</div>"
      ],
      "text/plain": [
       "                                                 url  \\\n",
       "0  https://vnexpress.net/ly-do-seo-ton-tai-vinh-v...   \n",
       "1  https://vnexpress.net/nha-may-di-dong-san-xuat...   \n",
       "2  https://vnexpress.net/lo-phan-ung-hut-nuoc-bie...   \n",
       "3  https://vnexpress.net/cac-san-pham-ai-noi-bat-...   \n",
       "4  https://vnexpress.net/tia-gamma-manh-nhat-tron...   \n",
       "\n",
       "                                               title  \\\n",
       "0                        Lý do sẹo tồn tại vĩnh viễn   \n",
       "1  Nhà máy di động sản xuất gạch không vữa từ đốn...   \n",
       "2  Lò phản ứng hút nước biển để sản xuất hydro tr...   \n",
       "3             Các sản phẩm AI nổi bật của VinBigdata   \n",
       "4                   Tia gamma mạnh nhất trong vũ trụ   \n",
       "\n",
       "                                         description  \\\n",
       "0  Mô sẹo có cấu tạo khác biệt so với da thông th...   \n",
       "1  Nhà máy có thể sản xuất 8.000 viên gạch giống ...   \n",
       "2  MỸCác nhà khoa học tại Viện Công nghệ Massachu...   \n",
       "3  Đội ngũ phát triển của VinBigdata tạo dấu ấn v...   \n",
       "4  Nhóm nghiên cứu đến từ Trung Quốc phát hiện dò...   \n",
       "\n",
       "                                             content       cat  \\\n",
       "0  [Caption: Vùng da bị sẹo có nhiều khác biệt vớ...  khoa học   \n",
       "1  [Caption: Nhà máy sản xuất gạch di động khá nh...  khoa học   \n",
       "2  Hai nhà nghiên cứu MIT Aly Kombargi (trái) và ...  khoa học   \n",
       "3  Trợ lý ảo ViVi 2.0\\n\"ViVi 2.0 tích hợp công ng...  khoa học   \n",
       "4  [Caption: Mô phỏng chớp tia gamma sáng nhất GR...  khoa học   \n",
       "\n",
       "                subcat  content_length  \n",
       "0          thường thức            2919  \n",
       "1              tin tức            2489  \n",
       "2              tin tức            2633  \n",
       "3  khoa học trong nước            4807  \n",
       "4              tin tức            1882  "
      ]
     },
     "execution_count": 4,
     "metadata": {},
     "output_type": "execute_result"
    }
   ],
   "source": [
    "raw_data = pd.read_csv('/kaggle/working/combined_data.csv')\n",
    "raw_data.head()"
   ]
  },
  {
   "cell_type": "code",
   "execution_count": 5,
   "id": "890b1e9d",
   "metadata": {
    "execution": {
     "iopub.execute_input": "2024-09-02T07:34:07.299823Z",
     "iopub.status.busy": "2024-09-02T07:34:07.299404Z",
     "iopub.status.idle": "2024-09-02T07:34:07.462053Z",
     "shell.execute_reply": "2024-09-02T07:34:07.460899Z"
    },
    "papermill": {
     "duration": 0.17431,
     "end_time": "2024-09-02T07:34:07.464758",
     "exception": false,
     "start_time": "2024-09-02T07:34:07.290448",
     "status": "completed"
    },
    "tags": []
   },
   "outputs": [
    {
     "data": {
      "text/html": [
       "<div>\n",
       "<style scoped>\n",
       "    .dataframe tbody tr th:only-of-type {\n",
       "        vertical-align: middle;\n",
       "    }\n",
       "\n",
       "    .dataframe tbody tr th {\n",
       "        vertical-align: top;\n",
       "    }\n",
       "\n",
       "    .dataframe thead th {\n",
       "        text-align: right;\n",
       "    }\n",
       "</style>\n",
       "<table border=\"1\" class=\"dataframe\">\n",
       "  <thead>\n",
       "    <tr style=\"text-align: right;\">\n",
       "      <th></th>\n",
       "      <th>url</th>\n",
       "      <th>title</th>\n",
       "      <th>description</th>\n",
       "      <th>content</th>\n",
       "      <th>cat</th>\n",
       "      <th>subcat</th>\n",
       "      <th>content_length</th>\n",
       "    </tr>\n",
       "  </thead>\n",
       "  <tbody>\n",
       "    <tr>\n",
       "      <th>0</th>\n",
       "      <td>https://vnexpress.net/ly-do-seo-ton-tai-vinh-v...</td>\n",
       "      <td>Lý do sẹo tồn tại vĩnh viễn</td>\n",
       "      <td>Mô sẹo có cấu tạo khác biệt so với da thông th...</td>\n",
       "      <td>Vùng da bị sẹo có nhiều khác biệt với da xung ...</td>\n",
       "      <td>khoa học</td>\n",
       "      <td>thường thức</td>\n",
       "      <td>2908</td>\n",
       "    </tr>\n",
       "    <tr>\n",
       "      <th>1</th>\n",
       "      <td>https://vnexpress.net/nha-may-di-dong-san-xuat...</td>\n",
       "      <td>Nhà máy di động sản xuất gạch không vữa từ đốn...</td>\n",
       "      <td>Nhà máy có thể sản xuất 8.000 viên gạch giống ...</td>\n",
       "      <td>Nhà máy sản xuất gạch di động khá nhỏ gọn, đặt...</td>\n",
       "      <td>khoa học</td>\n",
       "      <td>tin tức</td>\n",
       "      <td>2467</td>\n",
       "    </tr>\n",
       "    <tr>\n",
       "      <th>2</th>\n",
       "      <td>https://vnexpress.net/lo-phan-ung-hut-nuoc-bie...</td>\n",
       "      <td>Lò phản ứng hút nước biển để sản xuất hydro tr...</td>\n",
       "      <td>MỸCác nhà khoa học tại Viện Công nghệ Massachu...</td>\n",
       "      <td>Hai nhà nghiên cứu MIT Aly Kombargi (trái) và ...</td>\n",
       "      <td>khoa học</td>\n",
       "      <td>tin tức</td>\n",
       "      <td>2633</td>\n",
       "    </tr>\n",
       "    <tr>\n",
       "      <th>3</th>\n",
       "      <td>https://vnexpress.net/cac-san-pham-ai-noi-bat-...</td>\n",
       "      <td>Các sản phẩm AI nổi bật của VinBigdata</td>\n",
       "      <td>Đội ngũ phát triển của VinBigdata tạo dấu ấn v...</td>\n",
       "      <td>Trợ lý ảo ViVi 2.0\\n\"ViVi 2.0 tích hợp công ng...</td>\n",
       "      <td>khoa học</td>\n",
       "      <td>khoa học trong nước</td>\n",
       "      <td>4785</td>\n",
       "    </tr>\n",
       "    <tr>\n",
       "      <th>4</th>\n",
       "      <td>https://vnexpress.net/tia-gamma-manh-nhat-tron...</td>\n",
       "      <td>Tia gamma mạnh nhất trong vũ trụ</td>\n",
       "      <td>Nhóm nghiên cứu đến từ Trung Quốc phát hiện dò...</td>\n",
       "      <td>Mô phỏng chớp tia gamma sáng nhất GRB 221009A ...</td>\n",
       "      <td>khoa học</td>\n",
       "      <td>tin tức</td>\n",
       "      <td>1871</td>\n",
       "    </tr>\n",
       "  </tbody>\n",
       "</table>\n",
       "</div>"
      ],
      "text/plain": [
       "                                                 url  \\\n",
       "0  https://vnexpress.net/ly-do-seo-ton-tai-vinh-v...   \n",
       "1  https://vnexpress.net/nha-may-di-dong-san-xuat...   \n",
       "2  https://vnexpress.net/lo-phan-ung-hut-nuoc-bie...   \n",
       "3  https://vnexpress.net/cac-san-pham-ai-noi-bat-...   \n",
       "4  https://vnexpress.net/tia-gamma-manh-nhat-tron...   \n",
       "\n",
       "                                               title  \\\n",
       "0                        Lý do sẹo tồn tại vĩnh viễn   \n",
       "1  Nhà máy di động sản xuất gạch không vữa từ đốn...   \n",
       "2  Lò phản ứng hút nước biển để sản xuất hydro tr...   \n",
       "3             Các sản phẩm AI nổi bật của VinBigdata   \n",
       "4                   Tia gamma mạnh nhất trong vũ trụ   \n",
       "\n",
       "                                         description  \\\n",
       "0  Mô sẹo có cấu tạo khác biệt so với da thông th...   \n",
       "1  Nhà máy có thể sản xuất 8.000 viên gạch giống ...   \n",
       "2  MỸCác nhà khoa học tại Viện Công nghệ Massachu...   \n",
       "3  Đội ngũ phát triển của VinBigdata tạo dấu ấn v...   \n",
       "4  Nhóm nghiên cứu đến từ Trung Quốc phát hiện dò...   \n",
       "\n",
       "                                             content       cat  \\\n",
       "0  Vùng da bị sẹo có nhiều khác biệt với da xung ...  khoa học   \n",
       "1  Nhà máy sản xuất gạch di động khá nhỏ gọn, đặt...  khoa học   \n",
       "2  Hai nhà nghiên cứu MIT Aly Kombargi (trái) và ...  khoa học   \n",
       "3  Trợ lý ảo ViVi 2.0\\n\"ViVi 2.0 tích hợp công ng...  khoa học   \n",
       "4  Mô phỏng chớp tia gamma sáng nhất GRB 221009A ...  khoa học   \n",
       "\n",
       "                subcat  content_length  \n",
       "0          thường thức            2908  \n",
       "1              tin tức            2467  \n",
       "2              tin tức            2633  \n",
       "3  khoa học trong nước            4785  \n",
       "4              tin tức            1871  "
      ]
     },
     "execution_count": 5,
     "metadata": {},
     "output_type": "execute_result"
    }
   ],
   "source": [
    "def preprocess_1(text):\n",
    "    text = text.replace('[Caption: ', '')\n",
    "    text = text.replace(']', '')\n",
    "    return text\n",
    "\n",
    "# def preprocess_2(text):\n",
    "#     while text.find('(') != -1:\n",
    "#         st = text.find('(')\n",
    "#         en = text.find(')')\n",
    "#         text = text[:st] + text[en:]\n",
    "#     return text\n",
    "\n",
    "raw_data['content'] = raw_data['content'].apply(preprocess_1)\n",
    "# raw_data['content'] = raw_data['content'].apply(preprocess_2)\n",
    "raw_data['content_length'] = raw_data['content'].apply(len)\n",
    "raw_data.head()"
   ]
  },
  {
   "cell_type": "code",
   "execution_count": 6,
   "id": "7d48df63",
   "metadata": {
    "execution": {
     "iopub.execute_input": "2024-09-02T07:34:07.482682Z",
     "iopub.status.busy": "2024-09-02T07:34:07.482278Z",
     "iopub.status.idle": "2024-09-02T07:34:07.494935Z",
     "shell.execute_reply": "2024-09-02T07:34:07.493554Z"
    },
    "papermill": {
     "duration": 0.024524,
     "end_time": "2024-09-02T07:34:07.497450",
     "exception": false,
     "start_time": "2024-09-02T07:34:07.472926",
     "status": "completed"
    },
    "tags": []
   },
   "outputs": [
    {
     "name": "stdout",
     "output_type": "stream",
     "text": [
      "['khoa học' 'giải trí' 'bất động sản' 'kinh doanh' 'số hóa' 'thể thao'\n",
      " 'pháp luật' 'giáo dục' 'du lịch' 'sức khỏe' 'các bệnh' 'đời sống' 'xe'\n",
      " 'xã hội' 'thế giới' 'an sinh' 'văn hóa' 'lao động - việc làm' 'thời sự'\n",
      " 'bảo vệ người tiêu dùng' 'công nghiệp hỗ trợ' 'tuần việt nam' 'chính trị'\n",
      " 'thông tin và truyền thông' 'bạn đọc' 'nội dung chuyên đề'\n",
      " 'dân tộc - tôn giáo' 'nông thôn mới' 'dân tộc thiểu số và miền núi'\n",
      " 'tình yêu - giới tính']\n",
      "Maximum content length: 47702\n",
      "Num samples: 17044\n"
     ]
    }
   ],
   "source": [
    "print(raw_data['cat'].unique())\n",
    "print('Maximum content length:', raw_data['content_length'].max())\n",
    "print('Num samples:', raw_data.shape[0])"
   ]
  },
  {
   "cell_type": "markdown",
   "id": "e12e91e9",
   "metadata": {
    "papermill": {
     "duration": 0.007859,
     "end_time": "2024-09-02T07:34:07.513433",
     "exception": false,
     "start_time": "2024-09-02T07:34:07.505574",
     "status": "completed"
    },
    "tags": []
   },
   "source": [
    "* 'khoa học' => 'khcn'\n",
    "* 'bất động sản' => 'kinh tế'\n",
    "* 'kinh doanh' => 'kinh tế'\n",
    "* 'số hóa' => 'khcn'\n",
    "* 'các bệnh' => 'sức khỏe'\n",
    "* 'đời sống' => 'xã hội'\n",
    "* 'xe' => remove\n",
    "* 'an sinh' => 'xã hội'\n",
    "* 'lao động - việc làm' => 'kinh tế'\n",
    "* 'thời sự' => 'xã hội'\n",
    "* 'bảo vệ người tiêu dùng' => 'kinh tế'\n",
    "* 'công nghiệp hỗ trợ' => 'khcn'\n",
    "* 'tuần việt nam' => 'xã hội'\n",
    "* 'thông tin và truyền thông' => remove\n",
    "* 'bạn đọc' => remove\n",
    "* 'nội dung chuyên đề' => remove\n",
    "* 'dân tộc - tôn giáo' => 'xã hội'\n",
    "* 'nông thôn mới' => 'xã hội'\n",
    "* 'dân tộc thiểu số và miền núi' => 'văn hóa'\n",
    "* 'tình yêu - giới tính' => 'văn hóa'"
   ]
  },
  {
   "cell_type": "code",
   "execution_count": 7,
   "id": "350e6217",
   "metadata": {
    "execution": {
     "iopub.execute_input": "2024-09-02T07:34:07.531843Z",
     "iopub.status.busy": "2024-09-02T07:34:07.531391Z",
     "iopub.status.idle": "2024-09-02T07:34:07.564554Z",
     "shell.execute_reply": "2024-09-02T07:34:07.563210Z"
    },
    "papermill": {
     "duration": 0.04589,
     "end_time": "2024-09-02T07:34:07.567463",
     "exception": false,
     "start_time": "2024-09-02T07:34:07.521573",
     "status": "completed"
    },
    "tags": []
   },
   "outputs": [
    {
     "name": "stderr",
     "output_type": "stream",
     "text": [
      "/tmp/ipykernel_17/2311177570.py:22: FutureWarning: A value is trying to be set on a copy of a DataFrame or Series through chained assignment using an inplace method.\n",
      "The behavior will change in pandas 3.0. This inplace method will never work because the intermediate object on which we are setting values always behaves as a copy.\n",
      "\n",
      "For example, when doing 'df[col].method(value, inplace=True)', try using 'df.method({col: value}, inplace=True)' or df[col] = df[col].method(value) instead, to perform the operation inplace on the original object.\n",
      "\n",
      "\n",
      "  raw_data['cat'].replace(replace_dict, inplace=True)\n"
     ]
    }
   ],
   "source": [
    "# Dictionary for replacing values\n",
    "replace_dict = {\n",
    "    'khoa học': 'khcn',\n",
    "    'công nghiệp hỗ trợ': 'khcn',\n",
    "    'bảo vệ người tiêu dùng': 'kinh tế',\n",
    "    'bất động sản': 'kinh tế',\n",
    "    'kinh doanh': 'kinh tế',\n",
    "    'số hóa': 'khcn',\n",
    "    'các bệnh': 'sức khỏe',\n",
    "    'đời sống': 'xã hội',\n",
    "    'an sinh': 'xã hội',\n",
    "    'lao động - việc làm': 'kinh tế',\n",
    "    'thời sự': 'xã hội',\n",
    "    'tuần việt nam': 'văn hóa',\n",
    "    'dân tộc - tôn giáo': 'xã hội',\n",
    "    'nông thôn mới': 'xã hội',\n",
    "    'dân tộc thiểu số và miền núi': 'văn hóa',\n",
    "    'tình yêu - giới tính': 'văn hóa'\n",
    "}\n",
    "\n",
    "# Replace values\n",
    "raw_data['cat'].replace(replace_dict, inplace=True)\n",
    "\n",
    "# Drop rows with specified values\n",
    "raw_data = raw_data[~raw_data['cat'].isin([\n",
    "    'xe', \n",
    "    'thông tin và truyền thông', \n",
    "    'bạn đọc', \n",
    "    'nội dung chuyên đề',\n",
    "])]"
   ]
  },
  {
   "cell_type": "code",
   "execution_count": 8,
   "id": "a8a35b7f",
   "metadata": {
    "execution": {
     "iopub.execute_input": "2024-09-02T07:34:07.586313Z",
     "iopub.status.busy": "2024-09-02T07:34:07.585875Z",
     "iopub.status.idle": "2024-09-02T07:34:07.593840Z",
     "shell.execute_reply": "2024-09-02T07:34:07.592469Z"
    },
    "papermill": {
     "duration": 0.020372,
     "end_time": "2024-09-02T07:34:07.596573",
     "exception": false,
     "start_time": "2024-09-02T07:34:07.576201",
     "status": "completed"
    },
    "tags": []
   },
   "outputs": [
    {
     "name": "stdout",
     "output_type": "stream",
     "text": [
      "['khcn' 'giải trí' 'kinh tế' 'thể thao' 'pháp luật' 'giáo dục' 'du lịch'\n",
      " 'sức khỏe' 'xã hội' 'thế giới' 'văn hóa' 'chính trị']\n"
     ]
    }
   ],
   "source": [
    "print(raw_data['cat'].unique())"
   ]
  },
  {
   "cell_type": "code",
   "execution_count": 9,
   "id": "f4025df1",
   "metadata": {
    "execution": {
     "iopub.execute_input": "2024-09-02T07:34:07.615599Z",
     "iopub.status.busy": "2024-09-02T07:34:07.615172Z",
     "iopub.status.idle": "2024-09-02T07:34:07.620877Z",
     "shell.execute_reply": "2024-09-02T07:34:07.619823Z"
    },
    "papermill": {
     "duration": 0.017984,
     "end_time": "2024-09-02T07:34:07.623291",
     "exception": false,
     "start_time": "2024-09-02T07:34:07.605307",
     "status": "completed"
    },
    "tags": []
   },
   "outputs": [],
   "source": [
    "category_to_number = {\n",
    "    \"chính trị\": 1,\n",
    "    \"xã hội\": 2,\n",
    "    \"kinh tế\": 3,\n",
    "    \"văn hóa\": 4,\n",
    "    \"sức khỏe\": 5,\n",
    "    \"pháp luật\": 6,\n",
    "    \"thế giới\": 7,\n",
    "    \"khcn\": 8,\n",
    "    \"thể thao\": 9,\n",
    "    \"giải trí\": 10,\n",
    "    \"du lịch\": 11,\n",
    "    \"giáo dục\": 12\n",
    "}"
   ]
  },
  {
   "cell_type": "code",
   "execution_count": 10,
   "id": "76fff4f6",
   "metadata": {
    "execution": {
     "iopub.execute_input": "2024-09-02T07:34:07.642112Z",
     "iopub.status.busy": "2024-09-02T07:34:07.641383Z",
     "iopub.status.idle": "2024-09-02T07:34:07.654621Z",
     "shell.execute_reply": "2024-09-02T07:34:07.653166Z"
    },
    "papermill": {
     "duration": 0.025568,
     "end_time": "2024-09-02T07:34:07.657098",
     "exception": false,
     "start_time": "2024-09-02T07:34:07.631530",
     "status": "completed"
    },
    "tags": []
   },
   "outputs": [
    {
     "name": "stdout",
     "output_type": "stream",
     "text": [
      "[ 8 10  3  9  6 12 11  5  2  7  4  1]\n",
      "Number of classes: 12\n"
     ]
    }
   ],
   "source": [
    "raw_data['encoded_cat'] = raw_data['cat'].map(category_to_number)\n",
    "print(raw_data['encoded_cat'].unique())\n",
    "num_classes = len(raw_data['encoded_cat'].unique())\n",
    "print('Number of classes:', num_classes)"
   ]
  },
  {
   "cell_type": "code",
   "execution_count": 11,
   "id": "fa5be715",
   "metadata": {
    "execution": {
     "iopub.execute_input": "2024-09-02T07:34:07.675775Z",
     "iopub.status.busy": "2024-09-02T07:34:07.675315Z",
     "iopub.status.idle": "2024-09-02T07:34:08.212256Z",
     "shell.execute_reply": "2024-09-02T07:34:08.211015Z"
    },
    "papermill": {
     "duration": 0.549375,
     "end_time": "2024-09-02T07:34:08.214863",
     "exception": false,
     "start_time": "2024-09-02T07:34:07.665488",
     "status": "completed"
    },
    "tags": []
   },
   "outputs": [
    {
     "data": {
      "image/png": "[encoded data removed]",
      "text/plain": [
       "<Figure size 640x480 with 1 Axes>"
      ]
     },
     "metadata": {},
     "output_type": "display_data"
    }
   ],
   "source": [
    "class_counts = raw_data['cat'].value_counts()\n",
    "\n",
    "ax = class_counts.plot(kind='bar', color='skyblue', edgecolor='black')\n",
    "\n",
    "plt.title('Number of Samples per Categories')\n",
    "plt.xlabel('Categories')\n",
    "plt.ylabel('Number of Samples')\n",
    "\n",
    "for i, count in enumerate(class_counts):\n",
    "    plt.text(i, count + 0.1, str(count), ha='center', va='bottom')\n",
    "\n",
    "plt.show()"
   ]
  },
  {
   "cell_type": "code",
   "execution_count": 12,
   "id": "1e46de5f",
   "metadata": {
    "execution": {
     "iopub.execute_input": "2024-09-02T07:34:08.234906Z",
     "iopub.status.busy": "2024-09-02T07:34:08.234464Z",
     "iopub.status.idle": "2024-09-02T07:34:08.252803Z",
     "shell.execute_reply": "2024-09-02T07:34:08.251512Z"
    },
    "papermill": {
     "duration": 0.031251,
     "end_time": "2024-09-02T07:34:08.255377",
     "exception": false,
     "start_time": "2024-09-02T07:34:08.224126",
     "status": "completed"
    },
    "tags": []
   },
   "outputs": [
    {
     "name": "stdout",
     "output_type": "stream",
     "text": [
      "9307\n",
      "6206\n"
     ]
    }
   ],
   "source": [
    "X, y = raw_data['content'].tolist(), raw_data['encoded_cat'].tolist()\n",
    "\n",
    "X_train, X_test, y_train, y_test = train_test_split(X, y, test_size=0.4, random_state=42)\n",
    "print(len(X_train))\n",
    "print(len(X_test))"
   ]
  },
  {
   "cell_type": "code",
   "execution_count": 13,
   "id": "554cf1ed",
   "metadata": {
    "execution": {
     "iopub.execute_input": "2024-09-02T07:34:08.277303Z",
     "iopub.status.busy": "2024-09-02T07:34:08.276883Z",
     "iopub.status.idle": "2024-09-02T07:34:24.886930Z",
     "shell.execute_reply": "2024-09-02T07:34:24.885415Z"
    },
    "papermill": {
     "duration": 16.623505,
     "end_time": "2024-09-02T07:34:24.889511",
     "exception": false,
     "start_time": "2024-09-02T07:34:08.266006",
     "status": "completed"
    },
    "tags": []
   },
   "outputs": [
    {
     "data": {
      "application/vnd.jupyter.widget-view+json": {
       "model_id": "a6128b0496f949a4a14a3c2641ab9aef",
       "version_major": 2,
       "version_minor": 0
      },
      "text/plain": [
       "config.json:   0%|          | 0.00/678 [00:00<?, ?B/s]"
      ]
     },
     "metadata": {},
     "output_type": "display_data"
    },
    {
     "data": {
      "application/vnd.jupyter.widget-view+json": {
       "model_id": "da55ffcc678a48d4b66194d339307152",
       "version_major": 2,
       "version_minor": 0
      },
      "text/plain": [
       "vocab.txt:   0%|          | 0.00/895k [00:00<?, ?B/s]"
      ]
     },
     "metadata": {},
     "output_type": "display_data"
    },
    {
     "data": {
      "application/vnd.jupyter.widget-view+json": {
       "model_id": "1b2884a791f54e78b9a2e5b32b758e91",
       "version_major": 2,
       "version_minor": 0
      },
      "text/plain": [
       "bpe.codes:   0%|          | 0.00/1.14M [00:00<?, ?B/s]"
      ]
     },
     "metadata": {},
     "output_type": "display_data"
    },
    {
     "data": {
      "application/vnd.jupyter.widget-view+json": {
       "model_id": "47fc5d05963b446a99c175335e5b403f",
       "version_major": 2,
       "version_minor": 0
      },
      "text/plain": [
       "tokenizer.json:   0%|          | 0.00/3.13M [00:00<?, ?B/s]"
      ]
     },
     "metadata": {},
     "output_type": "display_data"
    },
    {
     "name": "stderr",
     "output_type": "stream",
     "text": [
      "/opt/conda/lib/python3.10/site-packages/transformers/tokenization_utils_base.py:1601: FutureWarning: `clean_up_tokenization_spaces` was not set. It will be set to `True` by default. This behavior will be depracted in transformers v4.45, and will be then set to `False` by default. For more details check this issue: https://github.com/huggingface/transformers/issues/31884\n",
      "  warnings.warn(\n"
     ]
    },
    {
     "name": "stdout",
     "output_type": "stream",
     "text": [
      "<s> <pad> </s> <unk>,. và của là <mask>\n"
     ]
    }
   ],
   "source": [
    "tokenizer = AutoTokenizer.from_pretrained(\"vinai/phobert-base-v2\")\n",
    "print(tokenizer.decode([0, 1, 2, 3, 4, 5, 6, 7, 8, 64000]))"
   ]
  },
  {
   "cell_type": "code",
   "execution_count": 14,
   "id": "b9fc80dc",
   "metadata": {
    "execution": {
     "iopub.execute_input": "2024-09-02T07:34:24.912244Z",
     "iopub.status.busy": "2024-09-02T07:34:24.910908Z",
     "iopub.status.idle": "2024-09-02T07:34:26.378304Z",
     "shell.execute_reply": "2024-09-02T07:34:26.376927Z"
    },
    "papermill": {
     "duration": 1.481624,
     "end_time": "2024-09-02T07:34:26.381252",
     "exception": false,
     "start_time": "2024-09-02T07:34:24.899628",
     "status": "completed"
    },
    "tags": []
   },
   "outputs": [
    {
     "name": "stdout",
     "output_type": "stream",
     "text": [
      "Cloning into 'vietnamese-stopwords'...\r\n",
      "remote: Enumerating objects: 95, done.\u001b[K\r\n",
      "remote: Counting objects: 100% (14/14), done.\u001b[K\r\n",
      "remote: Compressing objects: 100% (10/10), done.\u001b[K\r\n",
      "remote: Total 95 (delta 3), reused 0 (delta 0), pack-reused 81 (from 1)\u001b[K\r\n",
      "Unpacking objects: 100% (95/95), 40.23 KiB | 1.34 MiB/s, done.\r\n"
     ]
    }
   ],
   "source": [
    "!git clone https://github.com/stopwords/vietnamese-stopwords"
   ]
  },
  {
   "cell_type": "code",
   "execution_count": 15,
   "id": "02586602",
   "metadata": {
    "execution": {
     "iopub.execute_input": "2024-09-02T07:34:26.403635Z",
     "iopub.status.busy": "2024-09-02T07:34:26.403203Z",
     "iopub.status.idle": "2024-09-02T07:34:26.411772Z",
     "shell.execute_reply": "2024-09-02T07:34:26.410524Z"
    },
    "papermill": {
     "duration": 0.022736,
     "end_time": "2024-09-02T07:34:26.414178",
     "exception": false,
     "start_time": "2024-09-02T07:34:26.391442",
     "status": "completed"
    },
    "tags": []
   },
   "outputs": [
    {
     "name": "stdout",
     "output_type": "stream",
     "text": [
      "['a lô', 'a ha', 'ai', 'ai ai', 'ai nấy', 'ai đó', 'alô', 'amen', 'anh', 'anh ấy', 'ba', 'ba ba', 'ba bản', 'ba cùng', 'ba họ', 'ba ngày', 'ba ngôi', 'ba tăng', 'bao giờ', 'bao lâu']\n",
      "1942\n"
     ]
    }
   ],
   "source": [
    "with open('/kaggle/working/vietnamese-stopwords/vietnamese-stopwords.txt', 'r', encoding='utf-8') as file:\n",
    "    stop_words = file.read()\n",
    "    stop_words = stop_words.split('\\n')\n",
    "    \n",
    "print(stop_words[:20])\n",
    "print(len(stop_words))"
   ]
  },
  {
   "cell_type": "code",
   "execution_count": 16,
   "id": "860e13f3",
   "metadata": {
    "execution": {
     "iopub.execute_input": "2024-09-02T07:34:26.436892Z",
     "iopub.status.busy": "2024-09-02T07:34:26.435927Z",
     "iopub.status.idle": "2024-09-02T07:38:27.178440Z",
     "shell.execute_reply": "2024-09-02T07:38:27.177220Z"
    },
    "papermill": {
     "duration": 240.756598,
     "end_time": "2024-09-02T07:38:27.180992",
     "exception": false,
     "start_time": "2024-09-02T07:34:26.424394",
     "status": "completed"
    },
    "tags": []
   },
   "outputs": [
    {
     "name": "stderr",
     "output_type": "stream",
     "text": [
      "100%|██████████| 9307/9307 [02:25<00:00, 64.15it/s]\n",
      "100%|██████████| 6206/6206 [01:35<00:00, 64.89it/s]\n"
     ]
    }
   ],
   "source": [
    "def remove_stopwords(text, stop_words):\n",
    "    words = text.split(' ')\n",
    "    \n",
    "    filtered_words = [word for word in words if word.lower() not in stop_words]\n",
    "    \n",
    "    return ' '.join(filtered_words)\n",
    "\n",
    "class NewsDataset(Dataset):\n",
    "    def __init__(self, X, y):\n",
    "        super().__init__()\n",
    "        self.X = X\n",
    "        self.y = y\n",
    "\n",
    "        self.X_cleaned = [remove_stopwords(content, stop_words) for content in tqdm(X)]\n",
    "\n",
    "    \n",
    "    def tokenize(self, tokenizer):\n",
    "        self.tokenized_X = tokenizer(self.X_cleaned,\n",
    "                                    padding='max_length',\n",
    "                                    truncation=True,\n",
    "                                    max_length=8000,\n",
    "                                    return_tensors=\"pt\"\n",
    "                                )\n",
    "\n",
    "    def __getitem__(self, idx):\n",
    "        return self.tokenized_X['input_ids'][idx], self.tokenized_X['attention_mask'][idx], self.y[idx]\n",
    "    \n",
    "    def __len__(self):\n",
    "        return len(self.y)\n",
    "\n",
    "train_dataset = NewsDataset(X_train, y_train)\n",
    "test_dataset = NewsDataset(X_test, y_test)"
   ]
  },
  {
   "cell_type": "code",
   "execution_count": 17,
   "id": "46386434",
   "metadata": {
    "execution": {
     "iopub.execute_input": "2024-09-02T07:38:27.522189Z",
     "iopub.status.busy": "2024-09-02T07:38:27.520554Z",
     "iopub.status.idle": "2024-09-02T07:38:27.527909Z",
     "shell.execute_reply": "2024-09-02T07:38:27.526789Z"
    },
    "papermill": {
     "duration": 0.211597,
     "end_time": "2024-09-02T07:38:27.530242",
     "exception": false,
     "start_time": "2024-09-02T07:38:27.318645",
     "status": "completed"
    },
    "tags": []
   },
   "outputs": [
    {
     "name": "stdout",
     "output_type": "stream",
     "text": [
      "Trong đó, đáng kể nhất có lẽ là nhóm nghiên cứu thuộc Học viện Quân y không cần “nghiên cứu” gì mà d\n",
      "đó, lẽ nghiên cứu Học viện Quân y “nghiên cứu” “phát minh” vợ Phan Quốc Việt lò kit xét nghiệm giá t\n"
     ]
    }
   ],
   "source": [
    "print(train_dataset.X[0][:100])\n",
    "print(train_dataset.X_cleaned[0][:100])"
   ]
  },
  {
   "cell_type": "code",
   "execution_count": 18,
   "id": "b0f8f289",
   "metadata": {
    "execution": {
     "iopub.execute_input": "2024-09-02T07:38:27.815369Z",
     "iopub.status.busy": "2024-09-02T07:38:27.814939Z",
     "iopub.status.idle": "2024-09-02T07:40:31.772721Z",
     "shell.execute_reply": "2024-09-02T07:40:31.771355Z"
    },
    "papermill": {
     "duration": 124.104471,
     "end_time": "2024-09-02T07:40:31.775811",
     "exception": false,
     "start_time": "2024-09-02T07:38:27.671340",
     "status": "completed"
    },
    "tags": []
   },
   "outputs": [
    {
     "name": "stdout",
     "output_type": "stream",
     "text": [
      "Tokenizing...\n"
     ]
    }
   ],
   "source": [
    "print('Tokenizing...')\n",
    "train_dataset.tokenize(tokenizer)\n",
    "test_dataset.tokenize(tokenizer)"
   ]
  },
  {
   "cell_type": "code",
   "execution_count": 19,
   "id": "04d103d4",
   "metadata": {
    "execution": {
     "iopub.execute_input": "2024-09-02T07:40:32.060401Z",
     "iopub.status.busy": "2024-09-02T07:40:32.059941Z",
     "iopub.status.idle": "2024-09-02T07:40:32.066662Z",
     "shell.execute_reply": "2024-09-02T07:40:32.065550Z"
    },
    "papermill": {
     "duration": 0.151401,
     "end_time": "2024-09-02T07:40:32.068936",
     "exception": false,
     "start_time": "2024-09-02T07:40:31.917535",
     "status": "completed"
    },
    "tags": []
   },
   "outputs": [
    {
     "name": "stdout",
     "output_type": "stream",
     "text": [
      "torch.Size([9307, 8000])\n"
     ]
    }
   ],
   "source": [
    "print(train_dataset.tokenized_X['input_ids'].shape)"
   ]
  },
  {
   "cell_type": "code",
   "execution_count": 20,
   "id": "1fb1aeaa",
   "metadata": {
    "execution": {
     "iopub.execute_input": "2024-09-02T07:40:32.350929Z",
     "iopub.status.busy": "2024-09-02T07:40:32.350468Z",
     "iopub.status.idle": "2024-09-02T07:40:32.371607Z",
     "shell.execute_reply": "2024-09-02T07:40:32.370280Z"
    },
    "papermill": {
     "duration": 0.165503,
     "end_time": "2024-09-02T07:40:32.374100",
     "exception": false,
     "start_time": "2024-09-02T07:40:32.208597",
     "status": "completed"
    },
    "tags": []
   },
   "outputs": [
    {
     "name": "stdout",
     "output_type": "stream",
     "text": [
      "torch.Size([8000])\n",
      "torch.Size([9307, 8000])\n",
      "torch.Size([6206, 8000])\n"
     ]
    }
   ],
   "source": [
    "print(train_dataset[0][0].shape)\n",
    "\n",
    "print(train_dataset.tokenized_X['input_ids'].shape)\n",
    "print(test_dataset.tokenized_X['input_ids'].shape)"
   ]
  },
  {
   "cell_type": "code",
   "execution_count": 21,
   "id": "6075e116",
   "metadata": {
    "execution": {
     "iopub.execute_input": "2024-09-02T07:40:32.653418Z",
     "iopub.status.busy": "2024-09-02T07:40:32.652656Z",
     "iopub.status.idle": "2024-09-02T07:40:37.196922Z",
     "shell.execute_reply": "2024-09-02T07:40:37.194753Z"
    },
    "papermill": {
     "duration": 4.688494,
     "end_time": "2024-09-02T07:40:37.200878",
     "exception": false,
     "start_time": "2024-09-02T07:40:32.512384",
     "status": "completed"
    },
    "tags": []
   },
   "outputs": [],
   "source": [
    "torch.save(train_dataset, 'train_dataset.pth')\n",
    "torch.save(test_dataset, 'test_dataset.pth')"
   ]
  },
  {
   "cell_type": "code",
   "execution_count": 22,
   "id": "0cdd9f85",
   "metadata": {
    "execution": {
     "iopub.execute_input": "2024-09-02T07:40:37.504244Z",
     "iopub.status.busy": "2024-09-02T07:40:37.503820Z",
     "iopub.status.idle": "2024-09-02T07:40:39.309760Z",
     "shell.execute_reply": "2024-09-02T07:40:39.308423Z"
    },
    "papermill": {
     "duration": 1.956374,
     "end_time": "2024-09-02T07:40:39.312131",
     "exception": false,
     "start_time": "2024-09-02T07:40:37.355757",
     "status": "completed"
    },
    "tags": []
   },
   "outputs": [
    {
     "name": "stderr",
     "output_type": "stream",
     "text": [
      "/tmp/ipykernel_17/290147885.py:1: FutureWarning: You are using `torch.load` with `weights_only=False` (the current default value), which uses the default pickle module implicitly. It is possible to construct malicious pickle data which will execute arbitrary code during unpickling (See https://github.com/pytorch/pytorch/blob/main/SECURITY.md#untrusted-models for more details). In a future release, the default value for `weights_only` will be flipped to `True`. This limits the functions that could be executed during unpickling. Arbitrary objects will no longer be allowed to be loaded via this mode unless they are explicitly allowlisted by the user via `torch.serialization.add_safe_globals`. We recommend you start setting `weights_only=True` for any use case where you don't have full control of the loaded file. Please open an issue on GitHub for any issues related to this experimental feature.\n",
      "  tmp = torch.load('/kaggle/working/train_dataset.pth')\n"
     ]
    },
    {
     "name": "stdout",
     "output_type": "stream",
     "text": [
      "torch.Size([8000])\n"
     ]
    }
   ],
   "source": [
    "tmp = torch.load('/kaggle/working/train_dataset.pth')\n",
    "print(tmp[0][0].shape)"
   ]
  }
 ],
 "metadata": {
  "kaggle": {
   "accelerator": "none",
   "dataSources": [],
   "dockerImageVersionId": 30762,
   "isGpuEnabled": false,
   "isInternetEnabled": true,
   "language": "python",
   "sourceType": "notebook"
  },
  "kernelspec": {
   "display_name": "Python 3",
   "language": "python",
   "name": "python3"
  },
  "language_info": {
   "codemirror_mode": {
    "name": "ipython",
    "version": 3
   },
   "file_extension": ".py",
   "mimetype": "text/x-python",
   "name": "python",
   "nbconvert_exporter": "python",
   "pygments_lexer": "ipython3",
   "version": "3.10.14"
  },
  "papermill": {
   "default_parameters": {},
   "duration": 432.819102,
   "end_time": "2024-09-02T07:40:42.431684",
   "environment_variables": {},
   "exception": null,
   "input_path": "__notebook__.ipynb",
   "output_path": "__notebook__.ipynb",
   "parameters": {},
   "start_time": "2024-09-02T07:33:29.612582",
   "version": "2.6.0"
  },
  "widgets": {
   "application/vnd.jupyter.widget-state+json": {
    "state": {
     "01f6c8e5c18f484c8205fd745bfc4b1a": {
      "model_module": "@jupyter-widgets/controls",
      "model_module_version": "1.5.0",
      "model_name": "FloatProgressModel",
      "state": {
       "_dom_classes": [],
       "_model_module": "@jupyter-widgets/controls",
       "_model_module_version": "1.5.0",
       "_model_name": "FloatProgressModel",
       "_view_count": null,
       "_view_module": "@jupyter-widgets/controls",
       "_view_module_version": "1.5.0",
       "_view_name": "ProgressView",
       "bar_style": "success",
       "description": "",
       "description_tooltip": null,
       "layout": "IPY_MODEL_df94ccfada4043c9ac3e25bfa78b8abf",
       "max": 1135173.0,
       "min": 0.0,
       "orientation": "horizontal",
       "style": "IPY_MODEL_f25ca5e505654521b5e1ecf2c148f173",
       "value": 1135173.0
      }
     },
     "0680d64180ee4fd7bad7ed8184dcedbe": {
      "model_module": "@jupyter-widgets/controls",
      "model_module_version": "1.5.0",
      "model_name": "ProgressStyleModel",
      "state": {
       "_model_module": "@jupyter-widgets/controls",
       "_model_module_version": "1.5.0",
       "_model_name": "ProgressStyleModel",
       "_view_count": null,
       "_view_module": "@jupyter-widgets/base",
       "_view_module_version": "1.2.0",
       "_view_name": "StyleView",
       "bar_color": null,
       "description_width": ""
      }
     },
     "12111cd207be49e1ac2a90c033986e38": {
      "model_module": "@jupyter-widgets/base",
      "model_module_version": "1.2.0",
      "model_name": "LayoutModel",
      "state": {
       "_model_module": "@jupyter-widgets/base",
       "_model_module_version": "1.2.0",
       "_model_name": "LayoutModel",
       "_view_count": null,
       "_view_module": "@jupyter-widgets/base",
       "_view_module_version": "1.2.0",
       "_view_name": "LayoutView",
       "align_content": null,
       "align_items": null,
       "align_self": null,
       "border": null,
       "bottom": null,
       "display": null,
       "flex": null,
       "flex_flow": null,
       "grid_area": null,
       "grid_auto_columns": null,
       "grid_auto_flow": null,
       "grid_auto_rows": null,
       "grid_column": null,
       "grid_gap": null,
       "grid_row": null,
       "grid_template_areas": null,
       "grid_template_columns": null,
       "grid_template_rows": null,
       "height": null,
       "justify_content": null,
       "justify_items": null,
       "left": null,
       "margin": null,
       "max_height": null,
       "max_width": null,
       "min_height": null,
       "min_width": null,
       "object_fit": null,
       "object_position": null,
       "order": null,
       "overflow": null,
       "overflow_x": null,
       "overflow_y": null,
       "padding": null,
       "right": null,
       "top": null,
       "visibility": null,
       "width": null
      }
     },
     "19a3338ff72d4397a4afd14a163e87c4": {
      "model_module": "@jupyter-widgets/controls",
      "model_module_version": "1.5.0",
      "model_name": "HTMLModel",
      "state": {
       "_dom_classes": [],
       "_model_module": "@jupyter-widgets/controls",
       "_model_module_version": "1.5.0",
       "_model_name": "HTMLModel",
       "_view_count": null,
       "_view_module": "@jupyter-widgets/controls",
       "_view_module_version": "1.5.0",
       "_view_name": "HTMLView",
       "description": "",
       "description_tooltip": null,
       "layout": "IPY_MODEL_c2f9e53fcdb44be7bd38152d440301b2",
       "placeholder": "​",
       "style": "IPY_MODEL_808a788fadc44893b73ebab3cfb040c2",
       "value": "tokenizer.json: 100%"
      }
     },
     "1b2884a791f54e78b9a2e5b32b758e91": {
      "model_module": "@jupyter-widgets/controls",
      "model_module_version": "1.5.0",
      "model_name": "HBoxModel",
      "state": {
       "_dom_classes": [],
       "_model_module": "@jupyter-widgets/controls",
       "_model_module_version": "1.5.0",
       "_model_name": "HBoxModel",
       "_view_count": null,
       "_view_module": "@jupyter-widgets/controls",
       "_view_module_version": "1.5.0",
       "_view_name": "HBoxView",
       "box_style": "",
       "children": [
        "IPY_MODEL_e726fb2c68134d9aa832df977741c400",
        "IPY_MODEL_01f6c8e5c18f484c8205fd745bfc4b1a",
        "IPY_MODEL_f893210df31c40b1932ba9faaa43b3c5"
       ],
       "layout": "IPY_MODEL_211cfcc53ed94fdd85cebd961dda6219"
      }
     },
     "1e2f8456207d4954bb3949c19273a649": {
      "model_module": "@jupyter-widgets/controls",
      "model_module_version": "1.5.0",
      "model_name": "DescriptionStyleModel",
      "state": {
       "_model_module": "@jupyter-widgets/controls",
       "_model_module_version": "1.5.0",
       "_model_name": "DescriptionStyleModel",
       "_view_count": null,
       "_view_module": "@jupyter-widgets/base",
       "_view_module_version": "1.2.0",
       "_view_name": "StyleView",
       "description_width": ""
      }
     },
     "211cfcc53ed94fdd85cebd961dda6219": {
      "model_module": "@jupyter-widgets/base",
      "model_module_version": "1.2.0",
      "model_name": "LayoutModel",
      "state": {
       "_model_module": "@jupyter-widgets/base",
       "_model_module_version": "1.2.0",
       "_model_name": "LayoutModel",
       "_view_count": null,
       "_view_module": "@jupyter-widgets/base",
       "_view_module_version": "1.2.0",
       "_view_name": "LayoutView",
       "align_content": null,
       "align_items": null,
       "align_self": null,
       "border": null,
       "bottom": null,
       "display": null,
       "flex": null,
       "flex_flow": null,
       "grid_area": null,
       "grid_auto_columns": null,
       "grid_auto_flow": null,
       "grid_auto_rows": null,
       "grid_column": null,
       "grid_gap": null,
       "grid_row": null,
       "grid_template_areas": null,
       "grid_template_columns": null,
       "grid_template_rows": null,
       "height": null,
       "justify_content": null,
       "justify_items": null,
       "left": null,
       "margin": null,
       "max_height": null,
       "max_width": null,
       "min_height": null,
       "min_width": null,
       "object_fit": null,
       "object_position": null,
       "order": null,
       "overflow": null,
       "overflow_x": null,
       "overflow_y": null,
       "padding": null,
       "right": null,
       "top": null,
       "visibility": null,
       "width": null
      }
     },
     "22e5c07f943e44bca2931d1a94d57347": {
      "model_module": "@jupyter-widgets/controls",
      "model_module_version": "1.5.0",
      "model_name": "HTMLModel",
      "state": {
       "_dom_classes": [],
       "_model_module": "@jupyter-widgets/controls",
       "_model_module_version": "1.5.0",
       "_model_name": "HTMLModel",
       "_view_count": null,
       "_view_module": "@jupyter-widgets/controls",
       "_view_module_version": "1.5.0",
       "_view_name": "HTMLView",
       "description": "",
       "description_tooltip": null,
       "layout": "IPY_MODEL_3d6adbdfa2504bf9960f236d01679439",
       "placeholder": "​",
       "style": "IPY_MODEL_801e467aa5bf41758334416f0a70b300",
       "value": " 3.13M/3.13M [00:00&lt;00:00, 6.35MB/s]"
      }
     },
     "2efb694839074d2182cb576e00f6cabb": {
      "model_module": "@jupyter-widgets/controls",
      "model_module_version": "1.5.0",
      "model_name": "HTMLModel",
      "state": {
       "_dom_classes": [],
       "_model_module": "@jupyter-widgets/controls",
       "_model_module_version": "1.5.0",
       "_model_name": "HTMLModel",
       "_view_count": null,
       "_view_module": "@jupyter-widgets/controls",
       "_view_module_version": "1.5.0",
       "_view_name": "HTMLView",
       "description": "",
       "description_tooltip": null,
       "layout": "IPY_MODEL_dff1807e7d75431b808bd29377ae03c2",
       "placeholder": "​",
       "style": "IPY_MODEL_1e2f8456207d4954bb3949c19273a649",
       "value": "vocab.txt: 100%"
      }
     },
     "3ca971b3322143cf9b78a2875a730064": {
      "model_module": "@jupyter-widgets/base",
      "model_module_version": "1.2.0",
      "model_name": "LayoutModel",
      "state": {
       "_model_module": "@jupyter-widgets/base",
       "_model_module_version": "1.2.0",
       "_model_name": "LayoutModel",
       "_view_count": null,
       "_view_module": "@jupyter-widgets/base",
       "_view_module_version": "1.2.0",
       "_view_name": "LayoutView",
       "align_content": null,
       "align_items": null,
       "align_self": null,
       "border": null,
       "bottom": null,
       "display": null,
       "flex": null,
       "flex_flow": null,
       "grid_area": null,
       "grid_auto_columns": null,
       "grid_auto_flow": null,
       "grid_auto_rows": null,
       "grid_column": null,
       "grid_gap": null,
       "grid_row": null,
       "grid_template_areas": null,
       "grid_template_columns": null,
       "grid_template_rows": null,
       "height": null,
       "justify_content": null,
       "justify_items": null,
       "left": null,
       "margin": null,
       "max_height": null,
       "max_width": null,
       "min_height": null,
       "min_width": null,
       "object_fit": null,
       "object_position": null,
       "order": null,
       "overflow": null,
       "overflow_x": null,
       "overflow_y": null,
       "padding": null,
       "right": null,
       "top": null,
       "visibility": null,
       "width": null
      }
     },
     "3cc7ca25ac184502a0664407be29e186": {
      "model_module": "@jupyter-widgets/controls",
      "model_module_version": "1.5.0",
      "model_name": "HTMLModel",
      "state": {
       "_dom_classes": [],
       "_model_module": "@jupyter-widgets/controls",
       "_model_module_version": "1.5.0",
       "_model_name": "HTMLModel",
       "_view_count": null,
       "_view_module": "@jupyter-widgets/controls",
       "_view_module_version": "1.5.0",
       "_view_name": "HTMLView",
       "description": "",
       "description_tooltip": null,
       "layout": "IPY_MODEL_76d008977ed34701b8788e714cc4cd0c",
       "placeholder": "​",
       "style": "IPY_MODEL_72031d04979a412c85863e32e1e86820",
       "value": " 895k/895k [00:00&lt;00:00, 2.74MB/s]"
      }
     },
     "3d6adbdfa2504bf9960f236d01679439": {
      "model_module": "@jupyter-widgets/base",
      "model_module_version": "1.2.0",
      "model_name": "LayoutModel",
      "state": {
       "_model_module": "@jupyter-widgets/base",
       "_model_module_version": "1.2.0",
       "_model_name": "LayoutModel",
       "_view_count": null,
       "_view_module": "@jupyter-widgets/base",
       "_view_module_version": "1.2.0",
       "_view_name": "LayoutView",
       "align_content": null,
       "align_items": null,
       "align_self": null,
       "border": null,
       "bottom": null,
       "display": null,
       "flex": null,
       "flex_flow": null,
       "grid_area": null,
       "grid_auto_columns": null,
       "grid_auto_flow": null,
       "grid_auto_rows": null,
       "grid_column": null,
       "grid_gap": null,
       "grid_row": null,
       "grid_template_areas": null,
       "grid_template_columns": null,
       "grid_template_rows": null,
       "height": null,
       "justify_content": null,
       "justify_items": null,
       "left": null,
       "margin": null,
       "max_height": null,
       "max_width": null,
       "min_height": null,
       "min_width": null,
       "object_fit": null,
       "object_position": null,
       "order": null,
       "overflow": null,
       "overflow_x": null,
       "overflow_y": null,
       "padding": null,
       "right": null,
       "top": null,
       "visibility": null,
       "width": null
      }
     },
     "458f59f8d5e3431080596d3c0938bd60": {
      "model_module": "@jupyter-widgets/controls",
      "model_module_version": "1.5.0",
      "model_name": "DescriptionStyleModel",
      "state": {
       "_model_module": "@jupyter-widgets/controls",
       "_model_module_version": "1.5.0",
       "_model_name": "DescriptionStyleModel",
       "_view_count": null,
       "_view_module": "@jupyter-widgets/base",
       "_view_module_version": "1.2.0",
       "_view_name": "StyleView",
       "description_width": ""
      }
     },
     "47fc5d05963b446a99c175335e5b403f": {
      "model_module": "@jupyter-widgets/controls",
      "model_module_version": "1.5.0",
      "model_name": "HBoxModel",
      "state": {
       "_dom_classes": [],
       "_model_module": "@jupyter-widgets/controls",
       "_model_module_version": "1.5.0",
       "_model_name": "HBoxModel",
       "_view_count": null,
       "_view_module": "@jupyter-widgets/controls",
       "_view_module_version": "1.5.0",
       "_view_name": "HBoxView",
       "box_style": "",
       "children": [
        "IPY_MODEL_19a3338ff72d4397a4afd14a163e87c4",
        "IPY_MODEL_c9916a0a7034458c82baaf34cd7363e1",
        "IPY_MODEL_22e5c07f943e44bca2931d1a94d57347"
       ],
       "layout": "IPY_MODEL_12111cd207be49e1ac2a90c033986e38"
      }
     },
     "650c5466f5674858964367f9d47f00e7": {
      "model_module": "@jupyter-widgets/base",
      "model_module_version": "1.2.0",
      "model_name": "LayoutModel",
      "state": {
       "_model_module": "@jupyter-widgets/base",
       "_model_module_version": "1.2.0",
       "_model_name": "LayoutModel",
       "_view_count": null,
       "_view_module": "@jupyter-widgets/base",
       "_view_module_version": "1.2.0",
       "_view_name": "LayoutView",
       "align_content": null,
       "align_items": null,
       "align_self": null,
       "border": null,
       "bottom": null,
       "display": null,
       "flex": null,
       "flex_flow": null,
       "grid_area": null,
       "grid_auto_columns": null,
       "grid_auto_flow": null,
       "grid_auto_rows": null,
       "grid_column": null,
       "grid_gap": null,
       "grid_row": null,
       "grid_template_areas": null,
       "grid_template_columns": null,
       "grid_template_rows": null,
       "height": null,
       "justify_content": null,
       "justify_items": null,
       "left": null,
       "margin": null,
       "max_height": null,
       "max_width": null,
       "min_height": null,
       "min_width": null,
       "object_fit": null,
       "object_position": null,
       "order": null,
       "overflow": null,
       "overflow_x": null,
       "overflow_y": null,
       "padding": null,
       "right": null,
       "top": null,
       "visibility": null,
       "width": null
      }
     },
     "6c4c378864ff480b99e8878c6c790f3a": {
      "model_module": "@jupyter-widgets/controls",
      "model_module_version": "1.5.0",
      "model_name": "DescriptionStyleModel",
      "state": {
       "_model_module": "@jupyter-widgets/controls",
       "_model_module_version": "1.5.0",
       "_model_name": "DescriptionStyleModel",
       "_view_count": null,
       "_view_module": "@jupyter-widgets/base",
       "_view_module_version": "1.2.0",
       "_view_name": "StyleView",
       "description_width": ""
      }
     },
     "72031d04979a412c85863e32e1e86820": {
      "model_module": "@jupyter-widgets/controls",
      "model_module_version": "1.5.0",
      "model_name": "DescriptionStyleModel",
      "state": {
       "_model_module": "@jupyter-widgets/controls",
       "_model_module_version": "1.5.0",
       "_model_name": "DescriptionStyleModel",
       "_view_count": null,
       "_view_module": "@jupyter-widgets/base",
       "_view_module_version": "1.2.0",
       "_view_name": "StyleView",
       "description_width": ""
      }
     },
     "76d008977ed34701b8788e714cc4cd0c": {
      "model_module": "@jupyter-widgets/base",
      "model_module_version": "1.2.0",
      "model_name": "LayoutModel",
      "state": {
       "_model_module": "@jupyter-widgets/base",
       "_model_module_version": "1.2.0",
       "_model_name": "LayoutModel",
       "_view_count": null,
       "_view_module": "@jupyter-widgets/base",
       "_view_module_version": "1.2.0",
       "_view_name": "LayoutView",
       "align_content": null,
       "align_items": null,
       "align_self": null,
       "border": null,
       "bottom": null,
       "display": null,
       "flex": null,
       "flex_flow": null,
       "grid_area": null,
       "grid_auto_columns": null,
       "grid_auto_flow": null,
       "grid_auto_rows": null,
       "grid_column": null,
       "grid_gap": null,
       "grid_row": null,
       "grid_template_areas": null,
       "grid_template_columns": null,
       "grid_template_rows": null,
       "height": null,
       "justify_content": null,
       "justify_items": null,
       "left": null,
       "margin": null,
       "max_height": null,
       "max_width": null,
       "min_height": null,
       "min_width": null,
       "object_fit": null,
       "object_position": null,
       "order": null,
       "overflow": null,
       "overflow_x": null,
       "overflow_y": null,
       "padding": null,
       "right": null,
       "top": null,
       "visibility": null,
       "width": null
      }
     },
     "7a564fe6290b4a5aa8ba4908a55a1ac7": {
      "model_module": "@jupyter-widgets/controls",
      "model_module_version": "1.5.0",
      "model_name": "HTMLModel",
      "state": {
       "_dom_classes": [],
       "_model_module": "@jupyter-widgets/controls",
       "_model_module_version": "1.5.0",
       "_model_name": "HTMLModel",
       "_view_count": null,
       "_view_module": "@jupyter-widgets/controls",
       "_view_module_version": "1.5.0",
       "_view_name": "HTMLView",
       "description": "",
       "description_tooltip": null,
       "layout": "IPY_MODEL_3ca971b3322143cf9b78a2875a730064",
       "placeholder": "​",
       "style": "IPY_MODEL_458f59f8d5e3431080596d3c0938bd60",
       "value": "config.json: 100%"
      }
     },
     "801e467aa5bf41758334416f0a70b300": {
      "model_module": "@jupyter-widgets/controls",
      "model_module_version": "1.5.0",
      "model_name": "DescriptionStyleModel",
      "state": {
       "_model_module": "@jupyter-widgets/controls",
       "_model_module_version": "1.5.0",
       "_model_name": "DescriptionStyleModel",
       "_view_count": null,
       "_view_module": "@jupyter-widgets/base",
       "_view_module_version": "1.2.0",
       "_view_name": "StyleView",
       "description_width": ""
      }
     },
     "8076341f0e814f6f90ea04236f08507b": {
      "model_module": "@jupyter-widgets/controls",
      "model_module_version": "1.5.0",
      "model_name": "HTMLModel",
      "state": {
       "_dom_classes": [],
       "_model_module": "@jupyter-widgets/controls",
       "_model_module_version": "1.5.0",
       "_model_name": "HTMLModel",
       "_view_count": null,
       "_view_module": "@jupyter-widgets/controls",
       "_view_module_version": "1.5.0",
       "_view_name": "HTMLView",
       "description": "",
       "description_tooltip": null,
       "layout": "IPY_MODEL_c2f318483e634be2930d2b73aa1c9645",
       "placeholder": "​",
       "style": "IPY_MODEL_e695e5a78438442d9e092a43a6b5d877",
       "value": " 678/678 [00:00&lt;00:00, 48.0kB/s]"
      }
     },
     "808a788fadc44893b73ebab3cfb040c2": {
      "model_module": "@jupyter-widgets/controls",
      "model_module_version": "1.5.0",
      "model_name": "DescriptionStyleModel",
      "state": {
       "_model_module": "@jupyter-widgets/controls",
       "_model_module_version": "1.5.0",
       "_model_name": "DescriptionStyleModel",
       "_view_count": null,
       "_view_module": "@jupyter-widgets/base",
       "_view_module_version": "1.2.0",
       "_view_name": "StyleView",
       "description_width": ""
      }
     },
     "87cda399b5cf4bb196b3b2025ce732db": {
      "model_module": "@jupyter-widgets/base",
      "model_module_version": "1.2.0",
      "model_name": "LayoutModel",
      "state": {
       "_model_module": "@jupyter-widgets/base",
       "_model_module_version": "1.2.0",
       "_model_name": "LayoutModel",
       "_view_count": null,
       "_view_module": "@jupyter-widgets/base",
       "_view_module_version": "1.2.0",
       "_view_name": "LayoutView",
       "align_content": null,
       "align_items": null,
       "align_self": null,
       "border": null,
       "bottom": null,
       "display": null,
       "flex": null,
       "flex_flow": null,
       "grid_area": null,
       "grid_auto_columns": null,
       "grid_auto_flow": null,
       "grid_auto_rows": null,
       "grid_column": null,
       "grid_gap": null,
       "grid_row": null,
       "grid_template_areas": null,
       "grid_template_columns": null,
       "grid_template_rows": null,
       "height": null,
       "justify_content": null,
       "justify_items": null,
       "left": null,
       "margin": null,
       "max_height": null,
       "max_width": null,
       "min_height": null,
       "min_width": null,
       "object_fit": null,
       "object_position": null,
       "order": null,
       "overflow": null,
       "overflow_x": null,
       "overflow_y": null,
       "padding": null,
       "right": null,
       "top": null,
       "visibility": null,
       "width": null
      }
     },
     "8b31c5f1a73c4e88811420ac37b5f06c": {
      "model_module": "@jupyter-widgets/controls",
      "model_module_version": "1.5.0",
      "model_name": "FloatProgressModel",
      "state": {
       "_dom_classes": [],
       "_model_module": "@jupyter-widgets/controls",
       "_model_module_version": "1.5.0",
       "_model_name": "FloatProgressModel",
       "_view_count": null,
       "_view_module": "@jupyter-widgets/controls",
       "_view_module_version": "1.5.0",
       "_view_name": "ProgressView",
       "bar_style": "success",
       "description": "",
       "description_tooltip": null,
       "layout": "IPY_MODEL_ee1a33a855354c50bd83be80e6826c54",
       "max": 678.0,
       "min": 0.0,
       "orientation": "horizontal",
       "style": "IPY_MODEL_ea557876a877409fa5d533fec2ccbc78",
       "value": 678.0
      }
     },
     "9296181509d34109994acf69c2b4d670": {
      "model_module": "@jupyter-widgets/controls",
      "model_module_version": "1.5.0",
      "model_name": "DescriptionStyleModel",
      "state": {
       "_model_module": "@jupyter-widgets/controls",
       "_model_module_version": "1.5.0",
       "_model_name": "DescriptionStyleModel",
       "_view_count": null,
       "_view_module": "@jupyter-widgets/base",
       "_view_module_version": "1.2.0",
       "_view_name": "StyleView",
       "description_width": ""
      }
     },
     "9417f79780c84bf8a2e9bc31e9d84d35": {
      "model_module": "@jupyter-widgets/controls",
      "model_module_version": "1.5.0",
      "model_name": "ProgressStyleModel",
      "state": {
       "_model_module": "@jupyter-widgets/controls",
       "_model_module_version": "1.5.0",
       "_model_name": "ProgressStyleModel",
       "_view_count": null,
       "_view_module": "@jupyter-widgets/base",
       "_view_module_version": "1.2.0",
       "_view_name": "StyleView",
       "bar_color": null,
       "description_width": ""
      }
     },
     "a6128b0496f949a4a14a3c2641ab9aef": {
      "model_module": "@jupyter-widgets/controls",
      "model_module_version": "1.5.0",
      "model_name": "HBoxModel",
      "state": {
       "_dom_classes": [],
       "_model_module": "@jupyter-widgets/controls",
       "_model_module_version": "1.5.0",
       "_model_name": "HBoxModel",
       "_view_count": null,
       "_view_module": "@jupyter-widgets/controls",
       "_view_module_version": "1.5.0",
       "_view_name": "HBoxView",
       "box_style": "",
       "children": [
        "IPY_MODEL_7a564fe6290b4a5aa8ba4908a55a1ac7",
        "IPY_MODEL_8b31c5f1a73c4e88811420ac37b5f06c",
        "IPY_MODEL_8076341f0e814f6f90ea04236f08507b"
       ],
       "layout": "IPY_MODEL_ac883f38d8044d5180e09d8d1227a793"
      }
     },
     "ac883f38d8044d5180e09d8d1227a793": {
      "model_module": "@jupyter-widgets/base",
      "model_module_version": "1.2.0",
      "model_name": "LayoutModel",
      "state": {
       "_model_module": "@jupyter-widgets/base",
       "_model_module_version": "1.2.0",
       "_model_name": "LayoutModel",
       "_view_count": null,
       "_view_module": "@jupyter-widgets/base",
       "_view_module_version": "1.2.0",
       "_view_name": "LayoutView",
       "align_content": null,
       "align_items": null,
       "align_self": null,
       "border": null,
       "bottom": null,
       "display": null,
       "flex": null,
       "flex_flow": null,
       "grid_area": null,
       "grid_auto_columns": null,
       "grid_auto_flow": null,
       "grid_auto_rows": null,
       "grid_column": null,
       "grid_gap": null,
       "grid_row": null,
       "grid_template_areas": null,
       "grid_template_columns": null,
       "grid_template_rows": null,
       "height": null,
       "justify_content": null,
       "justify_items": null,
       "left": null,
       "margin": null,
       "max_height": null,
       "max_width": null,
       "min_height": null,
       "min_width": null,
       "object_fit": null,
       "object_position": null,
       "order": null,
       "overflow": null,
       "overflow_x": null,
       "overflow_y": null,
       "padding": null,
       "right": null,
       "top": null,
       "visibility": null,
       "width": null
      }
     },
     "c2f318483e634be2930d2b73aa1c9645": {
      "model_module": "@jupyter-widgets/base",
      "model_module_version": "1.2.0",
      "model_name": "LayoutModel",
      "state": {
       "_model_module": "@jupyter-widgets/base",
       "_model_module_version": "1.2.0",
       "_model_name": "LayoutModel",
       "_view_count": null,
       "_view_module": "@jupyter-widgets/base",
       "_view_module_version": "1.2.0",
       "_view_name": "LayoutView",
       "align_content": null,
       "align_items": null,
       "align_self": null,
       "border": null,
       "bottom": null,
       "display": null,
       "flex": null,
       "flex_flow": null,
       "grid_area": null,
       "grid_auto_columns": null,
       "grid_auto_flow": null,
       "grid_auto_rows": null,
       "grid_column": null,
       "grid_gap": null,
       "grid_row": null,
       "grid_template_areas": null,
       "grid_template_columns": null,
       "grid_template_rows": null,
       "height": null,
       "justify_content": null,
       "justify_items": null,
       "left": null,
       "margin": null,
       "max_height": null,
       "max_width": null,
       "min_height": null,
       "min_width": null,
       "object_fit": null,
       "object_position": null,
       "order": null,
       "overflow": null,
       "overflow_x": null,
       "overflow_y": null,
       "padding": null,
       "right": null,
       "top": null,
       "visibility": null,
       "width": null
      }
     },
     "c2f9e53fcdb44be7bd38152d440301b2": {
      "model_module": "@jupyter-widgets/base",
      "model_module_version": "1.2.0",
      "model_name": "LayoutModel",
      "state": {
       "_model_module": "@jupyter-widgets/base",
       "_model_module_version": "1.2.0",
       "_model_name": "LayoutModel",
       "_view_count": null,
       "_view_module": "@jupyter-widgets/base",
       "_view_module_version": "1.2.0",
       "_view_name": "LayoutView",
       "align_content": null,
       "align_items": null,
       "align_self": null,
       "border": null,
       "bottom": null,
       "display": null,
       "flex": null,
       "flex_flow": null,
       "grid_area": null,
       "grid_auto_columns": null,
       "grid_auto_flow": null,
       "grid_auto_rows": null,
       "grid_column": null,
       "grid_gap": null,
       "grid_row": null,
       "grid_template_areas": null,
       "grid_template_columns": null,
       "grid_template_rows": null,
       "height": null,
       "justify_content": null,
       "justify_items": null,
       "left": null,
       "margin": null,
       "max_height": null,
       "max_width": null,
       "min_height": null,
       "min_width": null,
       "object_fit": null,
       "object_position": null,
       "order": null,
       "overflow": null,
       "overflow_x": null,
       "overflow_y": null,
       "padding": null,
       "right": null,
       "top": null,
       "visibility": null,
       "width": null
      }
     },
     "c4664cb5ddec454e83b5d662d3a8cd29": {
      "model_module": "@jupyter-widgets/base",
      "model_module_version": "1.2.0",
      "model_name": "LayoutModel",
      "state": {
       "_model_module": "@jupyter-widgets/base",
       "_model_module_version": "1.2.0",
       "_model_name": "LayoutModel",
       "_view_count": null,
       "_view_module": "@jupyter-widgets/base",
       "_view_module_version": "1.2.0",
       "_view_name": "LayoutView",
       "align_content": null,
       "align_items": null,
       "align_self": null,
       "border": null,
       "bottom": null,
       "display": null,
       "flex": null,
       "flex_flow": null,
       "grid_area": null,
       "grid_auto_columns": null,
       "grid_auto_flow": null,
       "grid_auto_rows": null,
       "grid_column": null,
       "grid_gap": null,
       "grid_row": null,
       "grid_template_areas": null,
       "grid_template_columns": null,
       "grid_template_rows": null,
       "height": null,
       "justify_content": null,
       "justify_items": null,
       "left": null,
       "margin": null,
       "max_height": null,
       "max_width": null,
       "min_height": null,
       "min_width": null,
       "object_fit": null,
       "object_position": null,
       "order": null,
       "overflow": null,
       "overflow_x": null,
       "overflow_y": null,
       "padding": null,
       "right": null,
       "top": null,
       "visibility": null,
       "width": null
      }
     },
     "c8d97ffb720b457ca1935041d8f71ca6": {
      "model_module": "@jupyter-widgets/controls",
      "model_module_version": "1.5.0",
      "model_name": "FloatProgressModel",
      "state": {
       "_dom_classes": [],
       "_model_module": "@jupyter-widgets/controls",
       "_model_module_version": "1.5.0",
       "_model_name": "FloatProgressModel",
       "_view_count": null,
       "_view_module": "@jupyter-widgets/controls",
       "_view_module_version": "1.5.0",
       "_view_name": "ProgressView",
       "bar_style": "success",
       "description": "",
       "description_tooltip": null,
       "layout": "IPY_MODEL_e1976c477b58407093863a020c972d23",
       "max": 895321.0,
       "min": 0.0,
       "orientation": "horizontal",
       "style": "IPY_MODEL_9417f79780c84bf8a2e9bc31e9d84d35",
       "value": 895321.0
      }
     },
     "c9916a0a7034458c82baaf34cd7363e1": {
      "model_module": "@jupyter-widgets/controls",
      "model_module_version": "1.5.0",
      "model_name": "FloatProgressModel",
      "state": {
       "_dom_classes": [],
       "_model_module": "@jupyter-widgets/controls",
       "_model_module_version": "1.5.0",
       "_model_name": "FloatProgressModel",
       "_view_count": null,
       "_view_module": "@jupyter-widgets/controls",
       "_view_module_version": "1.5.0",
       "_view_name": "ProgressView",
       "bar_style": "success",
       "description": "",
       "description_tooltip": null,
       "layout": "IPY_MODEL_c4664cb5ddec454e83b5d662d3a8cd29",
       "max": 3132320.0,
       "min": 0.0,
       "orientation": "horizontal",
       "style": "IPY_MODEL_0680d64180ee4fd7bad7ed8184dcedbe",
       "value": 3132320.0
      }
     },
     "da55ffcc678a48d4b66194d339307152": {
      "model_module": "@jupyter-widgets/controls",
      "model_module_version": "1.5.0",
      "model_name": "HBoxModel",
      "state": {
       "_dom_classes": [],
       "_model_module": "@jupyter-widgets/controls",
       "_model_module_version": "1.5.0",
       "_model_name": "HBoxModel",
       "_view_count": null,
       "_view_module": "@jupyter-widgets/controls",
       "_view_module_version": "1.5.0",
       "_view_name": "HBoxView",
       "box_style": "",
       "children": [
        "IPY_MODEL_2efb694839074d2182cb576e00f6cabb",
        "IPY_MODEL_c8d97ffb720b457ca1935041d8f71ca6",
        "IPY_MODEL_3cc7ca25ac184502a0664407be29e186"
       ],
       "layout": "IPY_MODEL_650c5466f5674858964367f9d47f00e7"
      }
     },
     "df94ccfada4043c9ac3e25bfa78b8abf": {
      "model_module": "@jupyter-widgets/base",
      "model_module_version": "1.2.0",
      "model_name": "LayoutModel",
      "state": {
       "_model_module": "@jupyter-widgets/base",
       "_model_module_version": "1.2.0",
       "_model_name": "LayoutModel",
       "_view_count": null,
       "_view_module": "@jupyter-widgets/base",
       "_view_module_version": "1.2.0",
       "_view_name": "LayoutView",
       "align_content": null,
       "align_items": null,
       "align_self": null,
       "border": null,
       "bottom": null,
       "display": null,
       "flex": null,
       "flex_flow": null,
       "grid_area": null,
       "grid_auto_columns": null,
       "grid_auto_flow": null,
       "grid_auto_rows": null,
       "grid_column": null,
       "grid_gap": null,
       "grid_row": null,
       "grid_template_areas": null,
       "grid_template_columns": null,
       "grid_template_rows": null,
       "height": null,
       "justify_content": null,
       "justify_items": null,
       "left": null,
       "margin": null,
       "max_height": null,
       "max_width": null,
       "min_height": null,
       "min_width": null,
       "object_fit": null,
       "object_position": null,
       "order": null,
       "overflow": null,
       "overflow_x": null,
       "overflow_y": null,
       "padding": null,
       "right": null,
       "top": null,
       "visibility": null,
       "width": null
      }
     },
     "dff1807e7d75431b808bd29377ae03c2": {
      "model_module": "@jupyter-widgets/base",
      "model_module_version": "1.2.0",
      "model_name": "LayoutModel",
      "state": {
       "_model_module": "@jupyter-widgets/base",
       "_model_module_version": "1.2.0",
       "_model_name": "LayoutModel",
       "_view_count": null,
       "_view_module": "@jupyter-widgets/base",
       "_view_module_version": "1.2.0",
       "_view_name": "LayoutView",
       "align_content": null,
       "align_items": null,
       "align_self": null,
       "border": null,
       "bottom": null,
       "display": null,
       "flex": null,
       "flex_flow": null,
       "grid_area": null,
       "grid_auto_columns": null,
       "grid_auto_flow": null,
       "grid_auto_rows": null,
       "grid_column": null,
       "grid_gap": null,
       "grid_row": null,
       "grid_template_areas": null,
       "grid_template_columns": null,
       "grid_template_rows": null,
       "height": null,
       "justify_content": null,
       "justify_items": null,
       "left": null,
       "margin": null,
       "max_height": null,
       "max_width": null,
       "min_height": null,
       "min_width": null,
       "object_fit": null,
       "object_position": null,
       "order": null,
       "overflow": null,
       "overflow_x": null,
       "overflow_y": null,
       "padding": null,
       "right": null,
       "top": null,
       "visibility": null,
       "width": null
      }
     },
     "e1976c477b58407093863a020c972d23": {
      "model_module": "@jupyter-widgets/base",
      "model_module_version": "1.2.0",
      "model_name": "LayoutModel",
      "state": {
       "_model_module": "@jupyter-widgets/base",
       "_model_module_version": "1.2.0",
       "_model_name": "LayoutModel",
       "_view_count": null,
       "_view_module": "@jupyter-widgets/base",
       "_view_module_version": "1.2.0",
       "_view_name": "LayoutView",
       "align_content": null,
       "align_items": null,
       "align_self": null,
       "border": null,
       "bottom": null,
       "display": null,
       "flex": null,
       "flex_flow": null,
       "grid_area": null,
       "grid_auto_columns": null,
       "grid_auto_flow": null,
       "grid_auto_rows": null,
       "grid_column": null,
       "grid_gap": null,
       "grid_row": null,
       "grid_template_areas": null,
       "grid_template_columns": null,
       "grid_template_rows": null,
       "height": null,
       "justify_content": null,
       "justify_items": null,
       "left": null,
       "margin": null,
       "max_height": null,
       "max_width": null,
       "min_height": null,
       "min_width": null,
       "object_fit": null,
       "object_position": null,
       "order": null,
       "overflow": null,
       "overflow_x": null,
       "overflow_y": null,
       "padding": null,
       "right": null,
       "top": null,
       "visibility": null,
       "width": null
      }
     },
     "e695e5a78438442d9e092a43a6b5d877": {
      "model_module": "@jupyter-widgets/controls",
      "model_module_version": "1.5.0",
      "model_name": "DescriptionStyleModel",
      "state": {
       "_model_module": "@jupyter-widgets/controls",
       "_model_module_version": "1.5.0",
       "_model_name": "DescriptionStyleModel",
       "_view_count": null,
       "_view_module": "@jupyter-widgets/base",
       "_view_module_version": "1.2.0",
       "_view_name": "StyleView",
       "description_width": ""
      }
     },
     "e726fb2c68134d9aa832df977741c400": {
      "model_module": "@jupyter-widgets/controls",
      "model_module_version": "1.5.0",
      "model_name": "HTMLModel",
      "state": {
       "_dom_classes": [],
       "_model_module": "@jupyter-widgets/controls",
       "_model_module_version": "1.5.0",
       "_model_name": "HTMLModel",
       "_view_count": null,
       "_view_module": "@jupyter-widgets/controls",
       "_view_module_version": "1.5.0",
       "_view_name": "HTMLView",
       "description": "",
       "description_tooltip": null,
       "layout": "IPY_MODEL_87cda399b5cf4bb196b3b2025ce732db",
       "placeholder": "​",
       "style": "IPY_MODEL_9296181509d34109994acf69c2b4d670",
       "value": "bpe.codes: 100%"
      }
     },
     "e8dbca278b9e4ea298168f7881904841": {
      "model_module": "@jupyter-widgets/base",
      "model_module_version": "1.2.0",
      "model_name": "LayoutModel",
      "state": {
       "_model_module": "@jupyter-widgets/base",
       "_model_module_version": "1.2.0",
       "_model_name": "LayoutModel",
       "_view_count": null,
       "_view_module": "@jupyter-widgets/base",
       "_view_module_version": "1.2.0",
       "_view_name": "LayoutView",
       "align_content": null,
       "align_items": null,
       "align_self": null,
       "border": null,
       "bottom": null,
       "display": null,
       "flex": null,
       "flex_flow": null,
       "grid_area": null,
       "grid_auto_columns": null,
       "grid_auto_flow": null,
       "grid_auto_rows": null,
       "grid_column": null,
       "grid_gap": null,
       "grid_row": null,
       "grid_template_areas": null,
       "grid_template_columns": null,
       "grid_template_rows": null,
       "height": null,
       "justify_content": null,
       "justify_items": null,
       "left": null,
       "margin": null,
       "max_height": null,
       "max_width": null,
       "min_height": null,
       "min_width": null,
       "object_fit": null,
       "object_position": null,
       "order": null,
       "overflow": null,
       "overflow_x": null,
       "overflow_y": null,
       "padding": null,
       "right": null,
       "top": null,
       "visibility": null,
       "width": null
      }
     },
     "ea557876a877409fa5d533fec2ccbc78": {
      "model_module": "@jupyter-widgets/controls",
      "model_module_version": "1.5.0",
      "model_name": "ProgressStyleModel",
      "state": {
       "_model_module": "@jupyter-widgets/controls",
       "_model_module_version": "1.5.0",
       "_model_name": "ProgressStyleModel",
       "_view_count": null,
       "_view_module": "@jupyter-widgets/base",
       "_view_module_version": "1.2.0",
       "_view_name": "StyleView",
       "bar_color": null,
       "description_width": ""
      }
     },
     "ee1a33a855354c50bd83be80e6826c54": {
      "model_module": "@jupyter-widgets/base",
      "model_module_version": "1.2.0",
      "model_name": "LayoutModel",
      "state": {
       "_model_module": "@jupyter-widgets/base",
       "_model_module_version": "1.2.0",
       "_model_name": "LayoutModel",
       "_view_count": null,
       "_view_module": "@jupyter-widgets/base",
       "_view_module_version": "1.2.0",
       "_view_name": "LayoutView",
       "align_content": null,
       "align_items": null,
       "align_self": null,
       "border": null,
       "bottom": null,
       "display": null,
       "flex": null,
       "flex_flow": null,
       "grid_area": null,
       "grid_auto_columns": null,
       "grid_auto_flow": null,
       "grid_auto_rows": null,
       "grid_column": null,
       "grid_gap": null,
       "grid_row": null,
       "grid_template_areas": null,
       "grid_template_columns": null,
       "grid_template_rows": null,
       "height": null,
       "justify_content": null,
       "justify_items": null,
       "left": null,
       "margin": null,
       "max_height": null,
       "max_width": null,
       "min_height": null,
       "min_width": null,
       "object_fit": null,
       "object_position": null,
       "order": null,
       "overflow": null,
       "overflow_x": null,
       "overflow_y": null,
       "padding": null,
       "right": null,
       "top": null,
       "visibility": null,
       "width": null
      }
     },
     "f25ca5e505654521b5e1ecf2c148f173": {
      "model_module": "@jupyter-widgets/controls",
      "model_module_version": "1.5.0",
      "model_name": "ProgressStyleModel",
      "state": {
       "_model_module": "@jupyter-widgets/controls",
       "_model_module_version": "1.5.0",
       "_model_name": "ProgressStyleModel",
       "_view_count": null,
       "_view_module": "@jupyter-widgets/base",
       "_view_module_version": "1.2.0",
       "_view_name": "StyleView",
       "bar_color": null,
       "description_width": ""
      }
     },
     "f893210df31c40b1932ba9faaa43b3c5": {
      "model_module": "@jupyter-widgets/controls",
      "model_module_version": "1.5.0",
      "model_name": "HTMLModel",
      "state": {
       "_dom_classes": [],
       "_model_module": "@jupyter-widgets/controls",
       "_model_module_version": "1.5.0",
       "_model_name": "HTMLModel",
       "_view_count": null,
       "_view_module": "@jupyter-widgets/controls",
       "_view_module_version": "1.5.0",
       "_view_name": "HTMLView",
       "description": "",
       "description_tooltip": null,
       "layout": "IPY_MODEL_e8dbca278b9e4ea298168f7881904841",
       "placeholder": "​",
       "style": "IPY_MODEL_6c4c378864ff480b99e8878c6c790f3a",
       "value": " 1.14M/1.14M [00:00&lt;00:00, 13.7MB/s]"
      }
     }
    },
    "version_major": 2,
    "version_minor": 0
   }
  }
 },
 "nbformat": 4,
 "nbformat_minor": 5
}
